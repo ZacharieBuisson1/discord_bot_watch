{
 "cells": [
  {
   "cell_type": "code",
   "execution_count": 1,
   "id": "a0495f0a",
   "metadata": {},
   "outputs": [],
   "source": [
    "import time\n",
    "import requests\n",
    "import random\n",
    "import json\n",
    "import discord\n",
    "from discord.ext import tasks \n",
    "from bs4 import BeautifulSoup\n"
   ]
  },
  {
   "cell_type": "code",
   "execution_count": 2,
   "id": "230bff87",
   "metadata": {},
   "outputs": [],
   "source": [
    "url = \"https://www.citymoments.com/collections/watches/products/seiko-snk809k2-automatic-analog-nylon-black-mens-watch\"\n"
   ]
  },
  {
   "cell_type": "code",
   "execution_count": 3,
   "id": "00147fd1",
   "metadata": {},
   "outputs": [],
   "source": [
    "### chargement du texte ###\n",
    "response = requests.get(url)\n",
    "html_content = response.text\n",
    "\n",
    "### extraction du texte ###\n",
    "soup = BeautifulSoup(html_content, \"html.parser\")\n",
    "# product_list = soup.find(\"span\", class_=required_part)\n",
    "# product_list = soup.select('span[class*=\"product-form__inventory inventory\"]')"
   ]
  },
  {
   "cell_type": "code",
   "execution_count": 5,
   "id": "056424cc",
   "metadata": {},
   "outputs": [],
   "source": [
    "product_list = soup.select('span[class*=\"product-form__inventory inventory\"]')"
   ]
  },
  {
   "cell_type": "code",
   "execution_count": 6,
   "id": "69115a99",
   "metadata": {},
   "outputs": [
    {
     "data": {
      "text/plain": [
       "[<span class=\"product-form__inventory inventory inventory--high\">In stock</span>]"
      ]
     },
     "execution_count": 6,
     "metadata": {},
     "output_type": "execute_result"
    }
   ],
   "source": [
    "product_list"
   ]
  },
  {
   "cell_type": "code",
   "execution_count": null,
   "id": "78d70180",
   "metadata": {},
   "outputs": [],
   "source": []
  }
 ],
 "metadata": {
  "kernelspec": {
   "display_name": "Python 3 (ipykernel)",
   "language": "python",
   "name": "python3"
  },
  "language_info": {
   "codemirror_mode": {
    "name": "ipython",
    "version": 3
   },
   "file_extension": ".py",
   "mimetype": "text/x-python",
   "name": "python",
   "nbconvert_exporter": "python",
   "pygments_lexer": "ipython3",
   "version": "3.7.4"
  }
 },
 "nbformat": 4,
 "nbformat_minor": 5
}
