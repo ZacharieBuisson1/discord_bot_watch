{
 "cells": [
  {
   "cell_type": "code",
   "execution_count": 3,
   "id": "69d919a0",
   "metadata": {},
   "outputs": [],
   "source": [
    "import time\n",
    "import requests\n",
    "import random\n",
    "from bs4 import BeautifulSoup\n",
    "\n",
    "required_part = \"product-form__inventory inventory\"\n",
    "url = \"https://www.citymoments.com/products/seiko-mens-casual-analog-metal-watch-snk063j5?_pos=2&_sid=4782a3bd4&_ss=r\"\n",
    "    \n",
    "# while True:\n",
    "### chargement du texte ###\n",
    "response = requests.get(url)\n",
    "html_content = response.text\n",
    "\n",
    "### extraction du texte ###\n",
    "soup = BeautifulSoup(html_content, \"html.parser\")\n",
    "product_list = soup.find(\"span\", class_=required_part)\n",
    "\n",
    "if product_list.text == \"Sold out\":\n",
    "    pass\n",
    "\n",
    "else:\n",
    "    # Get the Discord channel you want to send the message to\n",
    "    channel = client.get_channel(CHANNEL_ID)\n",
    "\n",
    "    # Send the message to the channel\n",
    "    await channel.send(f\"{name} is now in stock!\")\n",
    "\n",
    "# time.sleep(random.randrange(60, 180))\n"
   ]
  },
  {
   "cell_type": "code",
   "execution_count": 4,
   "id": "c4062698",
   "metadata": {},
   "outputs": [
    {
     "data": {
      "text/plain": [
       "'Sold out'"
      ]
     },
     "execution_count": 4,
     "metadata": {},
     "output_type": "execute_result"
    }
   ],
   "source": [
    "# product_list.text"
   ]
  },
  {
   "cell_type": "code",
   "execution_count": 8,
   "id": "324cbc3d",
   "metadata": {},
   "outputs": [],
   "source": [
    "# import discord"
   ]
  },
  {
   "cell_type": "code",
   "execution_count": 6,
   "id": "57de86fb",
   "metadata": {},
   "outputs": [],
   "source": [
    "import discord\n",
    "\n",
    "token = \"MTA2OTM0NjE1MTg5NzI0Mzc2OQ.GyE8Y1.E6Aum6US9YgnOkmYCWCJBpw0vhKD3lcvolyck4\"\n",
    "client = discord.Client()\n",
    "\n",
    "@client.event\n",
    "async def on_ready():\n",
    "    print(f\"Connected to Discord as {client.user}\")\n",
    "\n",
    "if not client.is_closed:\n",
    "    client.run(token)"
   ]
  },
  {
   "cell_type": "code",
   "execution_count": null,
   "id": "3af5a0b3",
   "metadata": {},
   "outputs": [],
   "source": []
  }
 ],
 "metadata": {
  "kernelspec": {
   "display_name": "Python 3 (ipykernel)",
   "language": "python",
   "name": "python3"
  },
  "language_info": {
   "codemirror_mode": {
    "name": "ipython",
    "version": 3
   },
   "file_extension": ".py",
   "mimetype": "text/x-python",
   "name": "python",
   "nbconvert_exporter": "python",
   "pygments_lexer": "ipython3",
   "version": "3.7.4"
  }
 },
 "nbformat": 4,
 "nbformat_minor": 5
}
